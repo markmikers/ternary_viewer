import plotly
import plotly.graph_objs as go
import pandas as pd 
import matplotlib.pyplot as plt
import numpy as np



plotly.offline.init_notebook_mode(connected=True)
df = pd.read_csv("https://raw.githubusercontent.com/markmikers/ternary_viewer/master/crmnfe.csv")

a = df['a']
c = df['c']
vol = df['vol']
hmix = df['hmix']
hform = df['hform']
markers = df['marker']
names = df['name']

x = (0.5 * a + c) * 100
y = (np.cos(30/180*np.pi) * a) * 100

dfCH = pd.read_csv("https://raw.githubusercontent.com/markmikers/ternary_viewer/master/crmnfeCH.csv")

aCH = dfCH['a']
cCH = dfCH['c']
volCH = dfCH['vol']
hmixCH = dfCH['hmix']
hformCH = dfCH['hform']

xCH = (0.5 * aCH + cCH) * 100
yCH = (np.cos(30/180*np.pi) * aCH) * 100


tScatterVol = go.Scatter3d(
    x=x,
    y=y,
    z=vol,
    mode='markers',
    marker=dict(
        size=3,
        color=vol,
        colorbar = dict(title = 'Volume per atom, A^3'),# set color to an array/list of desired values
        colorscale='Viridis',   # choose a colorscale
        opacity=1,
        symbol = markers,
    ),
    text = names
)

tScatterHmix = go.Scatter3d(
    x=x,
    y=y,
    z=hmix,
    mode='markers',
    marker=dict(
        size=3,
        color=hmix,
        colorbar = dict(title = 'Enthalpy of mixing, eV'),# set color to an array/list of desired values
        colorscale='Bluered',   # choose a colorscale
        opacity=1,
        symbol = markers,
    ),
    text = names
)

tScatterHform = go.Scatter3d(
    x=x,
    y=y,
    z=hform,
    mode='markers',
    marker=dict(
        size=3,
        color=hform,
        colorbar = dict(title = 'Enthalpy of formation, eV'),# set color to an array/list of desired values
        colorscale='Bluered',   # choose a colorscale
        opacity=1,
        symbol = markers,
    ),
    text = names
)

tMeshVol = go.Mesh3d(x=xCH,y=yCH,z=volCH,color='lightgrey',opacity=0.8,hoverinfo='none')
tMeshHmix = go.Mesh3d(x=xCH,y=yCH,z=hmixCH,color='darkblue',opacity=0.2, alphahull=1,hoverinfo='none')
tMeshHform = go.Mesh3d(x=xCH,y=yCH,z=hformCH,color='darkblue',opacity=0.2, alphahull=1,hoverinfo='none')

#x1 = [100,0,50,100]
#y1 = [0,0,np.cos(np.pi/6)*100,0]
#z1 = [min(z),min(z),min(z),min(z)]

ym = np.cos(np.pi/6)*100
xp = [50,100,100,0,0,50,50,0,0,100,100,50]
yp = [ym,0,0,0,0,ym,ym,0,0,0,0,ym]

zmaxV = max(vol)
zminV = min(vol)
zmaxHmix = max(hmix)
zminHmix = min(hmix)
zmaxHform = max(hform)
zminHform = min(hform)
zVol = [zmaxV,zmaxV,zminV,zminV,zmaxV,zmaxV,zminV,zminV,zmaxV,zmaxV,zminV,zminV]
zHmix = [zmaxHmix,zmaxHmix,zminHmix,zminHmix,zmaxHmix,zmaxHmix,zminHmix,zminHmix,zmaxHmix,zmaxHmix,zminHmix,zminHmix]
zHform = [zmaxHform,zmaxHform,zminHform,zminHform,zmaxHform,zmaxHform,zminHform,zminHform,zmaxHform,zmaxHform,zminHform,zminHform]

tPrismVol = go.Scatter3d(
    x=xp, y=yp, z=zVol,
    marker=dict(
        size=1,
    ),
    line=dict(
        color='#1f77b4',
        width=1
    ),
    hoverinfo='none'
)
tPrismHmix = go.Scatter3d(
    x=xp, y=yp, z=zHmix,
    marker=dict(
        size=1,
    ),
    line=dict(
        color='#1f77b4',
        width=1
    ),
    hoverinfo='none'
)
tPrismHform = go.Scatter3d(
    x=xp, y=yp, z=zHform,
    marker=dict(
        size=1,
    ),
    line=dict(
        color='#1f77b4',
        width=1
    ),
    hoverinfo='none'
)
trace1 = go.Scatter3d(
    x=[0, 50, 100],
    y=[0, ym, 0],
    z=[12, 12, 12],
    mode='text',
    name='Text',
    text=['Cr', 'Fe', 'Mn'],
    textposition='top'
)

data = [tScatterVol, tPrismVol, tMeshVol, tScatterHmix, tMeshHmix, tPrismHmix, tScatterHform, tPrismHform, tMeshHform]

updatemenus = list([
    dict(active=-1,
         buttons=list([   
            dict(label = 'Volume',
                 method = 'update',
                 args = [{'visible': [True, True, True, False, False, False, False, False, False]},]),
            dict(label = 'Hmix',
                 method = 'update',
                 args = [{'visible': [False, False, False, True, True, True, False, False, False]},]),
            dict(label = 'Hform',
                 method = 'update',
                 args = [{'visible': [False, False, False, False, False, False, True, True, True]},]),
        ]),
    )
])

layout = go.Layout(
    showlegend=False,
    #autosize=True,
    width = 1000,
    height = 700,
    scene = dict(xaxis = dict(nticks=4, range = [0,100], visible=False),
                 yaxis = dict(nticks=4, range = [0,100], visible=False),
                 zaxis = dict(visible=False)
                 #zaxis = dict(nticks=4, range = [10,12], visible=False),
                ),
    #width=700,
    #margin=dict(r=20,
    #            l=10,
    #            b=10,
    #            t=10)
    #font=dict(family='Courier New, monospace', size=18, color='#000000')
)
layout['updatemenus'] = updatemenus

fig = go.Figure(data=data, layout=layout)
plotly.offline.iplot(fig)
